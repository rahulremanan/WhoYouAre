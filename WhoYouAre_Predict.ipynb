{
 "cells": [
  {
   "cell_type": "markdown",
   "metadata": {},
   "source": [
    "## Import dependent libraries"
   ]
  },
  {
   "cell_type": "code",
   "execution_count": 18,
   "metadata": {
    "collapsed": true
   },
   "outputs": [],
   "source": [
    "from pandas import read_csv\n",
    "from matplotlib import pyplot\n",
    "import math\n",
    "from numpy import concatenate, array, asarray\n",
    "from pandas import DataFrame\n",
    "from pandas import concat\n",
    "from keras import optimizers\n",
    "from sklearn.preprocessing import MinMaxScaler\n",
    "from sklearn.preprocessing import LabelEncoder\n",
    "from sklearn.metrics import mean_squared_error\n",
    "from keras.models import Model, model_from_json\n",
    "from keras.layers import Input\n",
    "from keras.layers import Dense, Dropout, BatchNormalization\n",
    "from keras.layers.recurrent import LSTM\n",
    "from keras.utils import to_categorical\n",
    "from keras.models import model_from_json\n",
    "from keras.layers.core import Activation\n",
    "from keras.callbacks import ReduceLROnPlateau\n",
    "from keras.utils import plot_model\n",
    "import random"
   ]
  },
  {
   "cell_type": "markdown",
   "metadata": {
    "collapsed": true
   },
   "source": [
    "## Convert series to supervised learning"
   ]
  },
  {
   "cell_type": "code",
   "execution_count": 3,
   "metadata": {
    "collapsed": true
   },
   "outputs": [],
   "source": [
    "def series_to_supervised(data, n_in=1, n_out=1, dropnan=True):\n",
    "    n_vars = 1 if type(data) is list else data.shape[1]\n",
    "    df = DataFrame(data)\n",
    "    cols, names = list(), list()\n",
    "    # input sequence (t-n, ... t-1)\n",
    "    for i in range(n_in, 0, -1):\n",
    "        cols.append(df.shift(i))\n",
    "        names += [('var%d(t-%d)' % (j + 1, i)) for j in range(n_vars)]\n",
    "    # forecast sequence (t, t+1, ... t+n)\n",
    "    for i in range(0, n_out):\n",
    "        cols.append(df.shift(-i))\n",
    "        if i == 0:\n",
    "            names += [('var%d(t)' % (j + 1)) for j in range(n_vars)]\n",
    "        else:\n",
    "            names += [('var%d(t+%d)' % (j + 1, i)) for j in range(n_vars)]\n",
    "    # put it all together\n",
    "    agg = concat(cols, axis=1)\n",
    "    agg.columns = names\n",
    "    # drop rows with NaN values\n",
    "    if dropnan:\n",
    "        agg.dropna(inplace=True)\n",
    "    return agg"
   ]
  },
  {
   "cell_type": "markdown",
   "metadata": {},
   "source": [
    "## Encode and Scale the values"
   ]
  },
  {
   "cell_type": "code",
   "execution_count": 237,
   "metadata": {},
   "outputs": [
    {
     "name": "stdout",
     "output_type": "stream",
     "text": [
      "   59  84897\n",
      "0  60  25456\n",
      "1  59  14880\n",
      "2  62  25820\n",
      "3  60  21361\n",
      "4  59  21153\n",
      "5  60  26320\n",
      "6  58  20404\n",
      "7  57  86203\n",
      "8  59  20645\n",
      "9  57  19400\n",
      "[[   60 25456]\n",
      " [   59 14880]\n",
      " [   62 25820]\n",
      " [   60 21361]\n",
      " [   59 21153]\n",
      " [   60 26320]\n",
      " [   58 20404]\n",
      " [   57 86203]\n",
      " [   59 20645]\n",
      " [   57 19400]]\n",
      "[[  6.00000000e+01   2.54560000e+04]\n",
      " [  5.90000000e+01   1.48800000e+04]\n",
      " [  6.20000000e+01   2.58200000e+04]\n",
      " [  6.00000000e+01   2.13610000e+04]\n",
      " [  5.90000000e+01   2.11530000e+04]\n",
      " [  6.00000000e+01   2.63200000e+04]\n",
      " [  5.80000000e+01   2.04040000e+04]\n",
      " [  5.70000000e+01   8.62030000e+04]\n",
      " [  5.90000000e+01   2.06450000e+04]\n",
      " [  5.70000000e+01   1.94000000e+04]]\n",
      "[[ 0.59999996  0.05136999]\n",
      " [ 0.58999997  0.02775489]\n",
      " [ 0.62        0.05218277]\n",
      " [ 0.59999996  0.04222629]\n",
      " [ 0.58999997  0.04176185]\n",
      " [ 0.59999996  0.05329921]\n",
      " [ 0.57999998  0.04008941]\n",
      " [ 0.56999999  0.1870117 ]\n",
      " [ 0.58999997  0.04062754]\n",
      " [ 0.56999999  0.03784758]]\n"
     ]
    }
   ],
   "source": [
    "dataset = read_csv('music_data.csv', header=0)\n",
    "print(dataset[0:10])\n",
    "values = dataset.values\n",
    "print(values[0:10])\n",
    "# integer encode direction\n",
    "# encoder = LabelEncoder()\n",
    "# values[:, 0] = encoder.fit_transform(values[:, 0])\n",
    "# print(values[0:10])\n",
    "# ensure all data is float\n",
    "values = values.astype('float32')\n",
    "print(values[0:10])\n",
    "# normalize features\n",
    "scaler = MinMaxScaler(feature_range=(0, 1))\n",
    "scaled = scaler.fit_transform(values)\n",
    "print(scaled[0:10])\n",
    "# frame as supervised learning"
   ]
  },
  {
   "cell_type": "code",
   "execution_count": 238,
   "metadata": {},
   "outputs": [
    {
     "name": "stdout",
     "output_type": "stream",
     "text": [
      "    var1(t-10)  var2(t-10)  var1(t-9)  var2(t-9)  var1(t-8)  var2(t-8)  \\\n",
      "10         0.6     0.05137       0.59   0.027755       0.62   0.052183   \n",
      "\n",
      "    var1(t-7)  var2(t-7)  var1(t-6)  var2(t-6)    ...     var1(t-4)  \\\n",
      "10        0.6   0.042226       0.59   0.041762    ...          0.58   \n",
      "\n",
      "    var2(t-4)  var1(t-3)  var2(t-3)  var1(t-2)  var2(t-2)  var1(t-1)  \\\n",
      "10   0.040089       0.57   0.187012       0.59   0.040628       0.57   \n",
      "\n",
      "    var2(t-1)  var1(t)   var2(t)  \n",
      "10   0.037848      0.6  0.053277  \n",
      "\n",
      "[1 rows x 22 columns]\n",
      "(12236, 22)\n"
     ]
    }
   ],
   "source": [
    "# specify the number of lag hours\n",
    "n_hours = 10\n",
    "n_features = 2\n",
    "# frame as supervised learning\n",
    "reframed = series_to_supervised(scaled, n_hours, 1)\n",
    "print(reframed[0:1:])\n",
    "print(reframed.shape)\n"
   ]
  },
  {
   "cell_type": "code",
   "execution_count": 239,
   "metadata": {
    "collapsed": true
   },
   "outputs": [],
   "source": [
    "values = reframed.values\n",
    "n_train_hours = 9000\n",
    "train = values[:n_train_hours, :]\n",
    "test = values[n_train_hours:, :]\n",
    "# split into input and outputs\n",
    "n_obs = n_hours * n_features\n"
   ]
  },
  {
   "cell_type": "code",
   "execution_count": 240,
   "metadata": {},
   "outputs": [
    {
     "name": "stdout",
     "output_type": "stream",
     "text": [
      "(9000, 10, 2) (9000,) (3236, 10, 2) (3236,)\n"
     ]
    }
   ],
   "source": [
    "train_X, train_y_notes = train[:, :n_obs], train[:, -n_features]\n",
    "train_y_length = train[:, -n_features -1]\n",
    "\n",
    "test_X, test_y_notes = test[:, :n_obs], test[:, -n_features]\n",
    "test_y_length = test[:, -n_features -1]\n",
    "# reshape input to be 3D [samples, timesteps, features]\n",
    "train_X = train_X.reshape((train_X.shape[0], n_hours, n_features))\n",
    "test_X = test_X.reshape((test_X.shape[0], n_hours, n_features))\n",
    "print(train_X.shape, train_y_notes.shape, test_X.shape, test_y_notes.shape)\n"
   ]
  },
  {
   "cell_type": "code",
   "execution_count": 396,
   "metadata": {},
   "outputs": [
    {
     "name": "stdout",
     "output_type": "stream",
     "text": [
      "Loaded model from disk\n"
     ]
    }
   ],
   "source": [
    "# load json and create model\n",
    "json_file = open('model.json', 'r')\n",
    "loaded_model_json = json_file.read()\n",
    "json_file.close()\n",
    "loaded_model = model_from_json(loaded_model_json)\n",
    "# load weights into new model\n",
    "loaded_model.load_weights(\"model.h5\")\n",
    "print(\"Loaded model from disk\")"
   ]
  },
  {
   "cell_type": "code",
   "execution_count": 397,
   "metadata": {},
   "outputs": [
    {
     "name": "stdout",
     "output_type": "stream",
     "text": [
      "____________________________________________________________________________________________________\n",
      "Layer (type)                     Output Shape          Param #     Connected to                     \n",
      "====================================================================================================\n",
      "input_main (InputLayer)          (None, 10, 2)         0                                            \n",
      "____________________________________________________________________________________________________\n",
      "lstm_1 (LSTM)                    (None, 10, 128)       67072       input_main[0][0]                 \n",
      "____________________________________________________________________________________________________\n",
      "batch_normalization_1 (BatchNorm (None, 10, 128)       512         lstm_1[0][0]                     \n",
      "____________________________________________________________________________________________________\n",
      "dropout_1 (Dropout)              (None, 10, 128)       0           batch_normalization_1[0][0]      \n",
      "____________________________________________________________________________________________________\n",
      "lstm_2 (LSTM)                    (None, 10, 128)       131584      dropout_1[0][0]                  \n",
      "____________________________________________________________________________________________________\n",
      "batch_normalization_2 (BatchNorm (None, 10, 128)       512         lstm_2[0][0]                     \n",
      "____________________________________________________________________________________________________\n",
      "dropout_2 (Dropout)              (None, 10, 128)       0           batch_normalization_2[0][0]      \n",
      "____________________________________________________________________________________________________\n",
      "lstm_3 (LSTM)                    (None, 128)           131584      dropout_2[0][0]                  \n",
      "____________________________________________________________________________________________________\n",
      "output_notes (Dense)             (None, 1)             129         lstm_3[0][0]                     \n",
      "____________________________________________________________________________________________________\n",
      "output_length (Dense)            (None, 1)             129         lstm_3[0][0]                     \n",
      "====================================================================================================\n",
      "Total params: 331,522\n",
      "Trainable params: 331,010\n",
      "Non-trainable params: 512\n",
      "____________________________________________________________________________________________________\n"
     ]
    }
   ],
   "source": [
    "loaded_model.summary()"
   ]
  },
  {
   "cell_type": "code",
   "execution_count": 422,
   "metadata": {
    "scrolled": true
   },
   "outputs": [
    {
     "name": "stdout",
     "output_type": "stream",
     "text": [
      "210\n"
     ]
    }
   ],
   "source": [
    "# make a prediction\n",
    "rand = random.randint(0,3000)\n",
    "print(rand)\n",
    "testx = dataset[rand:rand+11]\n",
    "input_values = testx\n",
    "# testx = [[60, 25456],\n",
    "# [59, 14880],\n",
    "# [62, 25820],\n",
    "# [60, 21361],\n",
    "# [59, 21153],\n",
    "# [60, 26320],\n",
    "# [58, 20404],\n",
    "# [57, 86203],\n",
    "# [59, 20645],\n",
    "# [57, 19400],\n",
    "# [60, 26310]]"
   ]
  },
  {
   "cell_type": "code",
   "execution_count": 423,
   "metadata": {},
   "outputs": [],
   "source": [
    "def process_array_for_prediction(testx):\n",
    "    testx = DataFrame(data = testx)\n",
    "    testx = testx.values\n",
    "    testx = testx.astype('float32')\n",
    "    testx = scaler.transform(testx)\n",
    "    testx = series_to_supervised(testx, n_hours, 1)\n",
    "    testx = testx.values\n",
    "    testx = testx[:, :n_obs]\n",
    "    testx = testx.reshape((testx.shape[0], n_hours, n_features))\n",
    "    return testx"
   ]
  },
  {
   "cell_type": "code",
   "execution_count": 424,
   "metadata": {},
   "outputs": [
    {
     "name": "stdout",
     "output_type": "stream",
     "text": [
      "[[[ 0.63        0.01773142]\n",
      "  [ 0.63999999  0.00245842]\n",
      "  [ 0.63        0.00473151]\n",
      "  [ 0.57999998  0.02807196]\n",
      "  [ 0.52999997  0.0039299 ]\n",
      "  [ 0.          0.00496819]\n",
      "  [ 0.52999997  0.01669759]\n",
      "  [ 0.53999996  0.02733734]\n",
      "  [ 0.47        0.00482082]\n",
      "  [ 0.57999998  0.02918394]]]\n"
     ]
    }
   ],
   "source": [
    "testx = process_array_for_prediction(testx)\n",
    "print(testx)"
   ]
  },
  {
   "cell_type": "code",
   "execution_count": 425,
   "metadata": {},
   "outputs": [],
   "source": [
    "prediction = loaded_model.predict(testx)\n",
    "prediction = asarray(prediction).ravel().reshape(-1,2)"
   ]
  },
  {
   "cell_type": "code",
   "execution_count": 426,
   "metadata": {},
   "outputs": [],
   "source": [
    "prediction = scaler.inverse_transform(prediction)\n",
    "prediction = prediction.astype('int')"
   ]
  },
  {
   "cell_type": "code",
   "execution_count": 427,
   "metadata": {},
   "outputs": [
    {
     "name": "stdout",
     "output_type": "stream",
     "text": [
      "INPUT_VALUES:\n",
      "[[   63 10391]\n",
      " [   64  3551]\n",
      " [   63  4569]\n",
      " [   58 15022]\n",
      " [   53  4210]\n",
      " [    0  4675]\n",
      " [   53  9928]\n",
      " [   54 14693]\n",
      " [   47  4609]\n",
      " [   58 15520]\n",
      " [   61  9479]]\n",
      "PREDICTION:\n",
      "[[   55 12378]]\n"
     ]
    }
   ],
   "source": [
    "\n",
    "print(\"INPUT_VALUES:\")\n",
    "print(input_values.values)\n",
    "print(\"PREDICTION:\")\n",
    "print(prediction)"
   ]
  },
  {
   "cell_type": "raw",
   "metadata": {},
   "source": []
  },
  {
   "cell_type": "code",
   "execution_count": null,
   "metadata": {
    "collapsed": true
   },
   "outputs": [],
   "source": []
  },
  {
   "cell_type": "code",
   "execution_count": null,
   "metadata": {
    "collapsed": true
   },
   "outputs": [],
   "source": []
  },
  {
   "cell_type": "code",
   "execution_count": null,
   "metadata": {
    "collapsed": true
   },
   "outputs": [],
   "source": []
  },
  {
   "cell_type": "code",
   "execution_count": null,
   "metadata": {
    "collapsed": true
   },
   "outputs": [],
   "source": []
  },
  {
   "cell_type": "code",
   "execution_count": null,
   "metadata": {
    "collapsed": true
   },
   "outputs": [],
   "source": []
  }
 ],
 "metadata": {
  "kernelspec": {
   "display_name": "Python 3",
   "language": "python",
   "name": "python3"
  },
  "language_info": {
   "codemirror_mode": {
    "name": "ipython",
    "version": 3
   },
   "file_extension": ".py",
   "mimetype": "text/x-python",
   "name": "python",
   "nbconvert_exporter": "python",
   "pygments_lexer": "ipython3",
   "version": "3.6.3"
  }
 },
 "nbformat": 4,
 "nbformat_minor": 2
}
