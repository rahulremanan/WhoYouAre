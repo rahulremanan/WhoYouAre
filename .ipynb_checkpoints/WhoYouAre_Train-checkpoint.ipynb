{
 "cells": [
  {
   "cell_type": "markdown",
   "metadata": {},
   "source": [
    "## Import dependent libraries"
   ]
  },
  {
   "cell_type": "code",
   "execution_count": 1,
   "metadata": {},
   "outputs": [
    {
     "name": "stderr",
     "output_type": "stream",
     "text": [
      "Using TensorFlow backend.\n"
     ]
    }
   ],
   "source": [
    "from pandas import read_csv\n",
    "from matplotlib import pyplot\n",
    "import math\n",
    "from numpy import concatenate, array\n",
    "from pandas import DataFrame\n",
    "from pandas import concat\n",
    "from keras import optimizers\n",
    "from sklearn.preprocessing import MinMaxScaler\n",
    "from sklearn.preprocessing import LabelEncoder\n",
    "from sklearn.metrics import mean_squared_error\n",
    "from keras.models import Model, model_from_json\n",
    "from keras.layers import Input\n",
    "from keras.layers import Dense, Dropout, BatchNormalization\n",
    "from keras.layers.recurrent import LSTM\n",
    "from keras.utils import to_categorical\n",
    "from keras.models import model_from_json\n",
    "from keras.layers.core import Activation\n",
    "from keras.callbacks import ReduceLROnPlateau\n",
    "from keras.utils import plot_model"
   ]
  },
  {
   "cell_type": "markdown",
   "metadata": {},
   "source": [
    "## Load dataset"
   ]
  },
  {
   "cell_type": "code",
   "execution_count": 2,
   "metadata": {},
   "outputs": [
    {
     "name": "stdout",
     "output_type": "stream",
     "text": [
      "[25456]\n"
     ]
    }
   ],
   "source": [
    "dataset = read_csv('music_data.csv', header=0, index_col=0)\n",
    "values = dataset.values\n",
    "print(values[0])"
   ]
  },
  {
   "cell_type": "markdown",
   "metadata": {},
   "source": [
    "## Specify columns to plot"
   ]
  },
  {
   "cell_type": "code",
   "execution_count": 3,
   "metadata": {},
   "outputs": [
    {
     "data": {
      "image/png": "[encoded data removed]",
      "text/plain": [
       "<matplotlib.figure.Figure at 0x1c1d22e438>"
      ]
     },
     "metadata": {},
     "output_type": "display_data"
    }
   ],
   "source": [
    "groups = [-1, 0]\n",
    "i = 1\n",
    "# plot each column\n",
    "pyplot.figure()\n",
    "for group in groups:\n",
    "    pyplot.subplot(len(groups), 1, i)\n",
    "    pyplot.plot(values[:, group])\n",
    "    pyplot.title(dataset.columns[group], y=0.5, loc='right')\n",
    "    i += 1\n",
    "\n",
    "\n",
    "pyplot.show()"
   ]
  },
  {
   "cell_type": "markdown",
   "metadata": {
    "collapsed": true
   },
   "source": [
    "## Convert series to supervised learning"
   ]
  },
  {
   "cell_type": "code",
   "execution_count": 4,
   "metadata": {
    "collapsed": true
   },
   "outputs": [],
   "source": [
    "def series_to_supervised(data, n_in=1, n_out=1, dropnan=True):\n",
    "    n_vars = 1 if type(data) is list else data.shape[1]\n",
    "    df = DataFrame(data)\n",
    "    cols, names = list(), list()\n",
    "    # input sequence (t-n, ... t-1)\n",
    "    for i in range(n_in, 0, -1):\n",
    "        cols.append(df.shift(i))\n",
    "        names += [('var%d(t-%d)' % (j + 1, i)) for j in range(n_vars)]\n",
    "    # forecast sequence (t, t+1, ... t+n)\n",
    "    for i in range(0, n_out):\n",
    "        cols.append(df.shift(-i))\n",
    "        if i == 0:\n",
    "            names += [('var%d(t)' % (j + 1)) for j in range(n_vars)]\n",
    "        else:\n",
    "            names += [('var%d(t+%d)' % (j + 1, i)) for j in range(n_vars)]\n",
    "    # put it all together\n",
    "    agg = concat(cols, axis=1)\n",
    "    agg.columns = names\n",
    "    # drop rows with NaN values\n",
    "    if dropnan:\n",
    "        agg.dropna(inplace=True)\n",
    "    return agg"
   ]
  },
  {
   "cell_type": "markdown",
   "metadata": {},
   "source": [
    "## Encode and Scale the values"
   ]
  },
  {
   "cell_type": "code",
   "execution_count": 5,
   "metadata": {},
   "outputs": [
    {
     "name": "stdout",
     "output_type": "stream",
     "text": [
      "values: [[   60 25456]\n",
      " [   59 14880]\n",
      " [   62 25820]\n",
      " [   60 21361]\n",
      " [   59 21153]\n",
      " [   60 26320]\n",
      " [   58 20404]\n",
      " [   57 86203]\n",
      " [   59 20645]\n",
      " [   57 19400]]\n"
     ]
    }
   ],
   "source": [
    "dataset = read_csv('music_data.csv', header=0)\n",
    "values = dataset.values\n",
    "print('values:', values[0:10])\n",
    "# integer encode direction\n",
    "# encoder = LabelEncoder()\n",
    "# values[:, 0] = encoder.fit_transform(values[:, 0])\n",
    "# print('encoded_values:', values[0:10])\n",
    "# ensure all data is float\n",
    "values = values.astype('float32')\n",
    "# normalize features\n",
    "scaler = MinMaxScaler(feature_range=(0, 1))\n",
    "scaled = scaler.fit_transform(values)\n",
    "# frame as supervised learning"
   ]
  },
  {
   "cell_type": "code",
   "execution_count": 6,
   "metadata": {},
   "outputs": [
    {
     "name": "stdout",
     "output_type": "stream",
     "text": [
      "(12236, 22)\n"
     ]
    }
   ],
   "source": [
    "# specify the number of lag hours\n",
    "n_hours = 10\n",
    "n_features = 2\n",
    "# frame as supervised learning\n",
    "reframed = series_to_supervised(scaled, n_hours, 1)\n",
    "print(reframed.shape)\n"
   ]
  },
  {
   "cell_type": "code",
   "execution_count": 7,
   "metadata": {
    "collapsed": true
   },
   "outputs": [],
   "source": [
    "values = reframed.values\n",
    "n_train_hours = 9000\n",
    "train = values[:n_train_hours, :]\n",
    "test = values[n_train_hours:, :]\n",
    "# split into input and outputs\n",
    "n_obs = n_hours * n_features\n"
   ]
  },
  {
   "cell_type": "code",
   "execution_count": 8,
   "metadata": {},
   "outputs": [
    {
     "name": "stdout",
     "output_type": "stream",
     "text": [
      "(9000, 10, 2) (9000,) (3236, 10, 2) (3236,)\n"
     ]
    }
   ],
   "source": [
    "train_X, train_y_notes = train[:, :n_obs], train[:, -n_features]\n",
    "train_y_length = train[:, -n_features -1]\n",
    "\n",
    "test_X, test_y_notes = test[:, :n_obs], test[:, -n_features]\n",
    "test_y_length = test[:, -n_features -1]\n",
    "# reshape input to be 3D [samples, timesteps, features]\n",
    "train_X = train_X.reshape((train_X.shape[0], n_hours, n_features))\n",
    "test_X = test_X.reshape((test_X.shape[0], n_hours, n_features))\n",
    "print(train_X.shape, train_y_notes.shape, test_X.shape, test_y_notes.shape)\n"
   ]
  },
  {
   "cell_type": "code",
   "execution_count": 9,
   "metadata": {},
   "outputs": [],
   "source": [
    "visible = Input(name='input_main', shape=(train_X.shape[1], train_X.shape[2]))\n",
    "hidden1 = LSTM(50, return_sequences=True)(visible)\n",
    "batchNorm1 = BatchNormalization()(hidden1)\n",
    "dropout1 = Dropout(0.5)(batchNorm1)\n",
    "\n",
    "hidden2 = LSTM(50, return_sequences=True)(dropout1)\n",
    "batchNorm2 = BatchNormalization()(hidden2)\n",
    "dropout2 = Dropout(0.5)(batchNorm2)\n",
    "\n",
    "#hidden3 = LSTM(512, return_sequences=True)(dropout2)\n",
    "#batchNorm3 = BatchNormalization()(hidden3)\n",
    "#dropout3 = Dropout(0.5)(batchNorm3)\n",
    "#\n",
    "#hidden4 = LSTM(512, return_sequences=True)(dropout3)\n",
    "#batchNorm4 = BatchNormalization()(hidden4)\n",
    "#dropout4 = Dropout(0.5)(batchNorm4)\n",
    "\n",
    "#hidden5 = LSTM(256, return_sequences=True)(dropout4)\n",
    "#batchNorm5 = BatchNormalization()(hidden5)\n",
    "#dropout5 = Dropout(0.5)(batchNorm5)\n",
    "#\n",
    "#hidden6 = LSTM(256, return_sequences=True)(dropout5)\n",
    "#batchNorm6 = BatchNormalization()(hidden6)\n",
    "#dropout6 = Dropout(0.5)(batchNorm6)\n",
    "\n",
    "hidden11 = LSTM(50)(dropout2)\n",
    "\n",
    "output_notes = Dense(1, activation='sigmoid', name='output_notes')(hidden11)\n",
    "output_length = Dense(1, activation='sigmoid', name='output_length')(hidden11)\n",
    "\n",
    "model = Model(inputs=[visible], outputs=[output_notes, output_length])"
   ]
  },
  {
   "cell_type": "code",
   "execution_count": 10,
   "metadata": {},
   "outputs": [
    {
     "name": "stdout",
     "output_type": "stream",
     "text": [
      "____________________________________________________________________________________________________\n",
      "Layer (type)                     Output Shape          Param #     Connected to                     \n",
      "====================================================================================================\n",
      "input_main (InputLayer)          (None, 10, 2)         0                                            \n",
      "____________________________________________________________________________________________________\n",
      "lstm_1 (LSTM)                    (None, 10, 50)        10600       input_main[0][0]                 \n",
      "____________________________________________________________________________________________________\n",
      "batch_normalization_1 (BatchNorm (None, 10, 50)        200         lstm_1[0][0]                     \n",
      "____________________________________________________________________________________________________\n",
      "dropout_1 (Dropout)              (None, 10, 50)        0           batch_normalization_1[0][0]      \n",
      "____________________________________________________________________________________________________\n",
      "lstm_2 (LSTM)                    (None, 10, 50)        20200       dropout_1[0][0]                  \n",
      "____________________________________________________________________________________________________\n",
      "batch_normalization_2 (BatchNorm (None, 10, 50)        200         lstm_2[0][0]                     \n",
      "____________________________________________________________________________________________________\n",
      "dropout_2 (Dropout)              (None, 10, 50)        0           batch_normalization_2[0][0]      \n",
      "____________________________________________________________________________________________________\n",
      "lstm_3 (LSTM)                    (None, 50)            20200       dropout_2[0][0]                  \n",
      "____________________________________________________________________________________________________\n",
      "output_notes (Dense)             (None, 1)             51          lstm_3[0][0]                     \n",
      "____________________________________________________________________________________________________\n",
      "output_length (Dense)            (None, 1)             51          lstm_3[0][0]                     \n",
      "====================================================================================================\n",
      "Total params: 51,502\n",
      "Trainable params: 51,302\n",
      "Non-trainable params: 200\n",
      "____________________________________________________________________________________________________\n"
     ]
    }
   ],
   "source": [
    "reduce_lr = ReduceLROnPlateau(monitor='val_loss', factor=0.2,\n",
    "                              patience=5, min_lr=0.0001)\n",
    "\n",
    "callback_list = [reduce_lr]\n",
    "\n",
    "optimizer = optimizers.Adam(lr=0.0001, beta_1=0.9, beta_2=0.999, epsilon=1e-08, decay=0.0)\n",
    "model.compile(loss='mae', optimizer=optimizer)\n",
    "model.summary()"
   ]
  },
  {
   "cell_type": "code",
   "execution_count": 11,
   "metadata": {},
   "outputs": [
    {
     "name": "stdout",
     "output_type": "stream",
     "text": [
      "Train on 9000 samples, validate on 3236 samples\n",
      "Epoch 1/2\n",
      "27s - loss: 0.2941 - output_notes_loss: 0.1617 - output_length_loss: 0.1324 - val_loss: 0.2957 - val_output_notes_loss: 0.1428 - val_output_length_loss: 0.1529\n",
      "Epoch 2/2\n",
      "27s - loss: 0.2074 - output_notes_loss: 0.1543 - output_length_loss: 0.0531 - val_loss: 0.1763 - val_output_notes_loss: 0.1299 - val_output_length_loss: 0.0463\n"
     ]
    }
   ],
   "source": [
    "history = model.fit(\n",
    "            {'input_main': train_X},\n",
    "            {'output_notes': train_y_notes, 'output_length': train_y_length},\n",
    "            validation_data=({'input_main': test_X},\n",
    "                             {'output_notes': test_y_notes, 'output_length': test_y_length}), \n",
    "            verbose=2,\n",
    "            shuffle=False,\n",
    "            epochs=50, \n",
    "            batch_size=32)"
   ]
  },
  {
   "cell_type": "code",
   "execution_count": 12,
   "metadata": {},
   "outputs": [
    {
     "name": "stdout",
     "output_type": "stream",
     "text": [
      "Saved model to disk\n"
     ]
    }
   ],
   "source": [
    "# serialize model to JSON\n",
    "model_json = model.to_json()\n",
    "with open(\"model.json\", \"w\") as json_file:\n",
    "    json_file.write(model_json)\n",
    "# serialize weights to HDF5\n",
    "model.save_weights(\"model.h5\")\n",
    "print(\"Saved model to disk\")"
   ]
  },
  {
   "cell_type": "code",
   "execution_count": 13,
   "metadata": {},
   "outputs": [
    {
     "data": {
      "image/png": "[encoded data removed]",
      "text/plain": [
       "<matplotlib.figure.Figure at 0x1c2ac237f0>"
      ]
     },
     "metadata": {},
     "output_type": "display_data"
    }
   ],
   "source": [
    "# plot history\n",
    "pyplot.plot(history.history['loss'], label='train')\n",
    "pyplot.plot(history.history['val_loss'], label='test')\n",
    "pyplot.legend()\n",
    "pyplot.show()"
   ]
  }
 ],
 "metadata": {
  "kernelspec": {
   "display_name": "Python 3",
   "language": "python",
   "name": "python3"
  },
  "language_info": {
   "codemirror_mode": {
    "name": "ipython",
    "version": 3
   },
   "file_extension": ".py",
   "mimetype": "text/x-python",
   "name": "python",
   "nbconvert_exporter": "python",
   "pygments_lexer": "ipython3",
   "version": "3.6.3"
  }
 },
 "nbformat": 4,
 "nbformat_minor": 2
}
